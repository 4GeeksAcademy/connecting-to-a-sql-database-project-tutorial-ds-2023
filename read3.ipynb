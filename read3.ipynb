{
 "cells": [
  {
   "cell_type": "markdown",
   "metadata": {},
   "source": [
    "## SQLite connection"
   ]
  },
  {
   "cell_type": "code",
   "execution_count": 3,
   "metadata": {},
   "outputs": [
    {
     "name": "stdout",
     "output_type": "stream",
     "text": [
      "ID = 1 NAME = Richard ADDRESS = 40 SALARY = Spain\n",
      "ID = 2 NAME = Óscar ADDRESS = 25 SALARY = France\n"
     ]
    }
   ],
   "source": [
    "import sqlite3\n",
    "\n",
    "# A database named \"test.db\" is generated in the current directory\n",
    "con = sqlite3.connect(\"test.db\")\n",
    "\n",
    "### CREATE: Generate an empty database with 5 variables: ID, NAME, AGE, ADDRESS and SALARY\n",
    "con.execute(\"\"\"CREATE TABLE COMPANY\n",
    "    (ID INT PRIMARY KEY     NOT NULL,\n",
    "     NAME           TEXT    NOT NULL,\n",
    "     AGE            INT     NOT NULL,\n",
    "     ADDRESS        CHAR(50),\n",
    "     SALARY         REAL)\"\"\")\n",
    "\n",
    "### INSERT: Insert a record into the database\n",
    "con.execute(\"\"\"INSERT INTO COMPANY\n",
    "    VALUES (1, 'Richard', 40, 'Spain', 20000.00)\"\"\")\n",
    "\n",
    "con.execute(\"\"\"INSERT INTO COMPANY\n",
    "    VALUES (2, 'Óscar', 25, 'France', 15000.00)\"\"\")\n",
    "con.commit()\n",
    "\n",
    "### SELECT: Filter from database values\n",
    "#  The cursor allows you to define a set of results\n",
    "cursor = con.execute(\"SELECT * from COMPANY\")\n",
    "for row in cursor: # Itera por todas las filas del filtro resultante\n",
    "    print(f\"ID = {row[0]} NAME = {row[1]} ADDRESS = {row[2]} SALARY = {row[3]}\")\n",
    "\n",
    "# The results can also be stored in a DataFrame using Pandas\n",
    "import pandas as pd\n",
    "cursor_df = pd.read_sql_query(\"SELECT * FROM COMPANY\", con)\n",
    "\n",
    "### UPDATE: Update a database record\n",
    "con.execute(\"UPDATE COMPANY set SALARY = 25000.00 where ID = 1\")\n",
    "con.commit()\n",
    "\n",
    "### DELETE: Delete one or more records from the database\n",
    "con.execute(\"DELETE from COMPANY where ID = 2\")\n",
    "con.commit()\n",
    "\n",
    "### Terminate database connection\n",
    "con.close()"
   ]
  },
  {
   "cell_type": "code",
   "execution_count": null,
   "metadata": {},
   "outputs": [],
   "source": [
    "# Create a SQLite database connection and cursor\n",
    "conn = sqlite3.connect('test.db')\n",
    "cursor = conn.cursor()\n",
    "\n",
    "# Execute an SQL query to retrieve names and ages of all pets\n",
    "query = \"SELECT * FROM COMPANY\"\n",
    "cursor.execute(query)\n",
    "\n",
    "# Fetch and print the results\n",
    "results = cursor.fetchall()\n",
    "print(results)"
   ]
  },
  {
   "cell_type": "markdown",
   "metadata": {},
   "source": [
    "## Connecting to MySQL"
   ]
  },
  {
   "cell_type": "code",
   "execution_count": null,
   "metadata": {},
   "outputs": [],
   "source": [
    "#!pip install pymysql\n",
    "import pymysql\n",
    "con = pymysql.connect(host = \"localhost\",\n",
    "    user = \"root\", \n",
    "    password = \"pass\",\n",
    "    db = \"COMPANY\", # Name of the table if we have created it before\n",
    ")"
   ]
  },
  {
   "cell_type": "code",
   "execution_count": null,
   "metadata": {},
   "outputs": [],
   "source": [
    "con = pymysql.connect(host = \"localhost\",\n",
    "    user = \"root\", \n",
    "    password = \"pass\"\n",
    ")\n",
    "cur = con.cursor()\n",
    "\n",
    "cur.execute(\"\"\"CREATE TABLE COMPANY\n",
    "    (ID INT PRIMARY KEY     NOT NULL,\n",
    "     NAME           TEXT    NOT NULL,\n",
    "     AGE            INT     NOT NULL,\n",
    "     ADDRESS        CHAR(50),\n",
    "     SALARY         REAL)\"\"\")\n",
    "\n",
    "con.select_db(\"COMPANY\")"
   ]
  },
  {
   "cell_type": "code",
   "execution_count": null,
   "metadata": {},
   "outputs": [],
   "source": [
    "### INSERT: Insert a record into the database\n",
    "cur.execute(\"\"\"INSERT INTO COMPANY\n",
    "    VALUES (1, 'Richard', 40, 'Spain', 20000.00)\"\"\")\n",
    "\n",
    "cur.execute(\"\"\"INSERT INTO COMPANY\n",
    "    VALUES (2, 'Óscar', 25, 'France', 15000.00)\"\"\")\n",
    "con.commit()\n",
    "\n",
    "### SELECT: Filter from database values\n",
    "cur.execute(\"SELECT * from COMPANY\")\n",
    "rows = cur.fetchall()\n",
    "for row in rows: # Itera por todas las filas del filtro resultante\n",
    "    print(f\"ID = {row[0]} NAME = {row[1]} ADDRESS = {row[2]} SALARY = {row[3]}\")\n",
    "\n",
    "# También se pueden almacenar los resultados en un DataFrame usando Pandas\n",
    "import pandas as pd\n",
    "cursor_df = pd.read_sql(\"SELECT * FROM COMPANY\", con)\n",
    "\n",
    "### UPDATE: Update a database record\n",
    "cur.execute(\"UPDATE COMPANY set SALARY = 25000.00 where ID = 1\")\n",
    "con.commit()\n",
    "\n",
    "### DELETE: Delete one or more records from the database\n",
    "cur.execute(\"DELETE from COMPANY where ID = 2\")\n",
    "con.commit()\n",
    "\n",
    "### Terminate database connection\n",
    "cur.close()\n",
    "con.close()"
   ]
  },
  {
   "cell_type": "markdown",
   "metadata": {},
   "source": [
    "## Connecting to PostgreSQL"
   ]
  },
  {
   "cell_type": "code",
   "execution_count": null,
   "metadata": {},
   "outputs": [],
   "source": [
    "import psycopg2\n",
    "\n",
    "con = psycopg2.connect(host = \"localhost\",\n",
    "    user = \"root\", \n",
    "    password = \"pass\",\n",
    "    database = \"COMPANY\", # Name of the table if we have created it before\n",
    ")"
   ]
  },
  {
   "cell_type": "code",
   "execution_count": null,
   "metadata": {},
   "outputs": [],
   "source": [
    "con = psycopg2.connect(host = \"localhost\",\n",
    "    user = \"root\", \n",
    "    password = \"pass\"\n",
    ")\n",
    "cur = con.cursor()\n",
    "\n",
    "cur.execute(\"\"\"CREATE TABLE COMPANY\n",
    "    (ID INT PRIMARY KEY     NOT NULL,\n",
    "     NAME           TEXT    NOT NULL,\n",
    "     AGE            INT     NOT NULL,\n",
    "     ADDRESS        CHAR(50),\n",
    "     SALARY         REAL)\"\"\")\n",
    "con.commit()"
   ]
  },
  {
   "cell_type": "code",
   "execution_count": null,
   "metadata": {},
   "outputs": [],
   "source": [
    "### INSERT: Insert a record into the database\n",
    "cur.execute(\"\"\"INSERT INTO COMPANY\n",
    "    VALUES (1, 'Richard', 40, 'Spain', 20000.00)\"\"\")\n",
    "\n",
    "cur.execute(\"\"\"INSERT INTO COMPANY\n",
    "    VALUES (2, 'Óscar', 25, 'France', 15000.00)\"\"\")\n",
    "con.commit()\n",
    "\n",
    "### SELECT: Filter from database values\n",
    "cur.execute(\"SELECT * from COMPANY\")\n",
    "rows = cur.fetchall()\n",
    "for row in rows: # Itera por todas las filas del filtro resultante\n",
    "    print(f\"ID = {row[0]} NAME = {row[1]} ADDRESS = {row[2]} SALARY = {row[3]}\")\n",
    "con.commit()\n",
    "\n",
    "# También se pueden almacenar los resultados en un DataFrame usando Pandas\n",
    "import pandas as pd\n",
    "cursor_df = pd.read_sql(\"SELECT * FROM COMPANY\", con)\n",
    "\n",
    "### UPDATE: Update a database record\n",
    "cur.execute(\"UPDATE COMPANY set SALARY = 25000.00 where ID = 1\")\n",
    "con.commit()\n",
    "\n",
    "### DELETE: Delete one or more records from the database\n",
    "cur.execute(\"DELETE from COMPANY where ID = 2\")\n",
    "con.commit()\n",
    "\n",
    "### Terminate database connection\n",
    "cur.close()\n",
    "con.close()"
   ]
  }
 ],
 "metadata": {
  "kernelspec": {
   "display_name": "Python 3",
   "language": "python",
   "name": "python3"
  },
  "language_info": {
   "codemirror_mode": {
    "name": "ipython",
    "version": 3
   },
   "file_extension": ".py",
   "mimetype": "text/x-python",
   "name": "python",
   "nbconvert_exporter": "python",
   "pygments_lexer": "ipython3",
   "version": "3.10.12"
  }
 },
 "nbformat": 4,
 "nbformat_minor": 2
}
