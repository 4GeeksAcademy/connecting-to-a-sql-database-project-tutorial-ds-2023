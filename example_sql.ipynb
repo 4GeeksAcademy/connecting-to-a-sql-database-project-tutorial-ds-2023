{
 "cells": [
  {
   "cell_type": "code",
   "execution_count": 4,
   "metadata": {},
   "outputs": [],
   "source": [
    "import sqlite3\n",
    "#!pip install pandas\n",
    "import pandas as pd"
   ]
  },
  {
   "cell_type": "code",
   "execution_count": 5,
   "metadata": {},
   "outputs": [],
   "source": [
    "#Source \n",
    "pets = \"https://sds-platform-private.s3-us-east-2.amazonaws.com/uploads/P9-Pets.csv\"\n",
    "owners = \"https://sds-platform-private.s3-us-east-2.amazonaws.com/uploads/P9-Owners.csv\"\n",
    "procedures = \"https://sds-platform-private.s3-us-east-2.amazonaws.com/uploads/P9-ProceduresHistory.csv\"\n",
    "details = \"https://sds-platform-private.s3-us-east-2.amazonaws.com/uploads/P9-ProceduresDetails.csv\""
   ]
  },
  {
   "cell_type": "code",
   "execution_count": 6,
   "metadata": {},
   "outputs": [],
   "source": [
    "# Read data from CSV files into dataframes\n",
    "pets_df = pd.read_csv(pets)\n",
    "owners_df = pd.read_csv(owners)\n",
    "procedures_df = pd.read_csv(procedures)\n",
    "details_df = pd.read_csv(details)"
   ]
  },
  {
   "cell_type": "code",
   "execution_count": 13,
   "metadata": {},
   "outputs": [],
   "source": [
    "# Create a SQLite database connection and cursor\n",
    "conn = sqlite3.connect('pets_data.db')\n",
    "cursor = conn.cursor()\n",
    "\n",
    "# Save dataframes to the SQLite database\n",
    "pets_df.to_sql('pets', conn, if_exists='replace', index=False)\n",
    "owners_df.to_sql('owners', conn, if_exists='replace', index=False)\n",
    "procedures_df.to_sql('procedures', conn, if_exists='replace', index=False)\n",
    "details_df.to_sql('procedure_details', conn, if_exists='replace', index=False)\n",
    "\n",
    "# Commit changes and close the database connection\n",
    "conn.commit()\n",
    "conn.close()"
   ]
  },
  {
   "cell_type": "code",
   "execution_count": null,
   "metadata": {},
   "outputs": [],
   "source": [
    "# Create a SQLite database connection and cursor\n",
    "conn = sqlite3.connect('pets_data.db')\n",
    "cursor = conn.cursor()\n",
    "# Execute a SQL query to list all tables in the database\n",
    "query = \"SELECT name FROM sqlite_master WHERE type='table';\"\n",
    "cursor.execute(query)\n",
    "\n",
    "# Fetch the table names\n",
    "tables = cursor.fetchall()\n",
    "\n",
    "# Close the database connection\n",
    "conn.close()\n",
    "\n",
    "# Print the list of table names\n",
    "print(\"Tables in the 'pets_data.db' database:\")\n",
    "for table in tables:\n",
    "    print(table[0])"
   ]
  },
  {
   "cell_type": "code",
   "execution_count": null,
   "metadata": {},
   "outputs": [],
   "source": [
    "# Create a SQLite database connection and cursor\n",
    "conn = sqlite3.connect('pets_data.db')\n",
    "cursor = conn.cursor()\n",
    "\n",
    "# Execute an SQL query to retrieve names and ages of all pets\n",
    "query = \"SELECT * FROM pets LIMIT 10\"\n",
    "cursor.execute(query)\n",
    "\n",
    "# Fetch and print the results\n",
    "results = cursor.fetchall()\n",
    "print(results)"
   ]
  },
  {
   "cell_type": "code",
   "execution_count": 12,
   "metadata": {},
   "outputs": [],
   "source": [
    "# Get the column names from the cursor's description attribute\n",
    "column_names = [desc[0] for desc in cursor.description]\n",
    "\n",
    "# Convert the results and column names to a Pandas DataFrame\n",
    "pets_df_query = pd.DataFrame(results, columns=column_names)"
   ]
  },
  {
   "cell_type": "code",
   "execution_count": null,
   "metadata": {},
   "outputs": [],
   "source": []
  }
 ],
 "metadata": {
  "kernelspec": {
   "display_name": "Python 3",
   "language": "python",
   "name": "python3"
  },
  "language_info": {
   "codemirror_mode": {
    "name": "ipython",
    "version": 3
   },
   "file_extension": ".py",
   "mimetype": "text/x-python",
   "name": "python",
   "nbconvert_exporter": "python",
   "pygments_lexer": "ipython3",
   "version": "3.10.12"
  }
 },
 "nbformat": 4,
 "nbformat_minor": 2
}
